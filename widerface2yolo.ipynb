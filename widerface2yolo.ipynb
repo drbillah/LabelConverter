{
 "cells": [
  {
   "cell_type": "code",
   "execution_count": 55,
   "metadata": {},
   "outputs": [],
   "source": [
    "import os\n",
    "import cv2\n",
    "import shutil\n",
    "from glob import glob"
   ]
  },
  {
   "cell_type": "code",
   "execution_count": 56,
   "metadata": {},
   "outputs": [],
   "source": [
    "dir_labels = \"/home/masum/Downloads/widerface/wider_face_split/wider_face_train_bbx_gt.txt\"\n",
    "dir_images = \"/home/masum/Downloads/widerface/WIDER_train/images/\"\n",
    "dir_out = \"/home/masum/Downloads/widerface/WIDER_train/out/\""
   ]
  },
  {
   "cell_type": "code",
   "execution_count": 57,
   "metadata": {},
   "outputs": [],
   "source": [
    "def getLabel(filename):\n",
    "    faces = {}\n",
    "    bbox = []\n",
    "    with open(filename) as lines:\n",
    "        for line in lines:\n",
    "            line = line.strip()\n",
    "            if line.find(\".jpg\") >= 0:\n",
    "                if len(bbox) > 0:\n",
    "                    faces[name] = bbox\n",
    "                    bbox = []\n",
    "                basename = os.path.basename(line)\n",
    "                name = basename[:-4]\n",
    "                lines.readline() #read number of bbox\n",
    "            else:\n",
    "                line = line.split() # extract bbox info\n",
    "                x = line[0]\n",
    "                y = line[1]\n",
    "                w = line[2]\n",
    "                h = line[3]\n",
    "                bbox.append([x,y,w,h])\n",
    "        faces[name] = bbox #last bbox\n",
    "        return faces        "
   ]
  },
  {
   "cell_type": "code",
   "execution_count": 58,
   "metadata": {},
   "outputs": [],
   "source": [
    "def setLabel(imgH, imgW, filename, bboxes):\n",
    "    f = open(filename + \".txt\", \"w\")\n",
    "    for bbox in bboxes:\n",
    "        x = float(bbox[0])\n",
    "        y = float(bbox[1])\n",
    "        w = float(bbox[2])\n",
    "        h = float(bbox[3])\n",
    "                    \n",
    "        if x <= 0.0: \n",
    "            x = 0.001\n",
    "        if y <= 0.0:\n",
    "            y = 0.001\n",
    "        if w <= 0.0:\n",
    "            w = 0.001\n",
    "        if h <= 0.0:\n",
    "            h = 0.001\n",
    "            \n",
    "        center_x = x + 0.5 * w\n",
    "        center_y = y + 0.5 * h\n",
    "    \n",
    "        X = center_x / imgW\n",
    "        Y = center_y / imgH\n",
    "        W = w / imgW\n",
    "        H = h / imgH\n",
    "        f.write(\"{} {:.2f} {:.2f} {:.2f} {:.2f}\\n\".format(0 ,X, Y, W, H))\n",
    "    f.close()"
   ]
  },
  {
   "cell_type": "code",
   "execution_count": 59,
   "metadata": {},
   "outputs": [],
   "source": [
    "labels = getLabel(dir_labels)"
   ]
  },
  {
   "cell_type": "code",
   "execution_count": 60,
   "metadata": {},
   "outputs": [],
   "source": [
    "folders = os.listdir(dir_images)\n",
    "for folder in folders:\n",
    "    temp = os.path.join(dir_images,folder)\n",
    "    images = glob(os.path.join(temp,\"*.jpg\"))\n",
    "    \n",
    "    for img in images:\n",
    "        basename = os.path.basename(img)\n",
    "        name = basename[:-4]\n",
    "        \n",
    "        im = cv2.imread(img)\n",
    "        imgH, imgW, imgc = im.shape\n",
    "        \n",
    "        setLabel(imgH, imgW, dir_out+name, labels[name])\n",
    "        shutil.copy(img, dir_out)\n"
   ]
  },
  {
   "cell_type": "code",
   "execution_count": null,
   "metadata": {},
   "outputs": [],
   "source": []
  }
 ],
 "metadata": {
  "kernelspec": {
   "display_name": "Python 3",
   "language": "python",
   "name": "python3"
  },
  "language_info": {
   "codemirror_mode": {
    "name": "ipython",
    "version": 3
   },
   "file_extension": ".py",
   "mimetype": "text/x-python",
   "name": "python",
   "nbconvert_exporter": "python",
   "pygments_lexer": "ipython3",
   "version": "3.8.5"
  }
 },
 "nbformat": 4,
 "nbformat_minor": 4
}
